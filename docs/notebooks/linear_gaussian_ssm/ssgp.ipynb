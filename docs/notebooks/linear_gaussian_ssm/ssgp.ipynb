{
 "cells": [
  {
   "cell_type": "markdown",
   "id": "92e34046",
   "metadata": {
    "id": "92e34046"
   },
   "source": [
    "# State-space Gaussian processes\n",
    "\n",
    "\n"
   ]
  },
  {
   "attachments": {},
   "cell_type": "markdown",
   "id": "17072519",
   "metadata": {},
   "source": [
    "Gaussian processes (GPs) scale as $O(N^3)$, where $N$ is the number of data points, which is problematic for large datasets.\n",
    "By parametrising the GP as a stochastic differential equation, we can reformulate the GP regression problem using a state-space representation, where it can be solved using Kalman filtering with linear time complexity ($O(N)$).\n",
    "\n",
    "In this minimal example, we will use the state-space representation of the Matérn-5/2 covariance function (in the paper, the case $p=2$, so $\\nu = p + 1/2= 5/2$), a typical choice for spatial and temporal problems.\n",
    "\n",
    "Need to train lengthscale ($\\ell$) and variance ($\\alpha$) of kernel during fitting, as well as the likelihood noise $\\sigma$\n",
    "\n",
    "$$\n",
    "\\begin{align*}\n",
    "\\underbrace{\\begin{pmatrix} z^1_t \\\\ z^2_t \\\\ z^3_t \\end{pmatrix}}_{z_t}\n",
    "  =\n",
    "\\underbrace{\n",
    "\\begin{pmatrix}\n",
    "0 & 1 & 0 \\\\\n",
    "0 & 0 & 1 \\\\\n",
    "-\\lambda^3 & -3 \\lambda^2 & -3 \\lambda\n",
    "\\end{pmatrix}\n",
    "}_{F}\n",
    "\\underbrace{\\begin{pmatrix} z^1_{t-1} \\\\ z^2_{t-1} \\\\ z^3_{t-1} \\end{pmatrix}}_{z_{t-1}} + q_t\n",
    "\\end{align*}\n",
    "$$\n",
    "\n",
    "Some helpers:\n",
    "$$\n",
    "\\begin{align*}\n",
    "\\lambda = \\sqrt{5} / \\ell \\\\\n",
    "q_t = \n",
    "\\begin{pmatrix}\n",
    "0 \\\\\n",
    "0 \\\\\n",
    "1\n",
    "\\end{pmatrix} w(t)\n",
    "\\end{align*}\n",
    "$$\n",
    "where $w(t)$ is some white noise process\n",
    "\n",
    "The observation model is\n",
    "\n",
    "$$\n",
    "\\begin{align*}\n",
    "y_t\n",
    "  &=\n",
    "    \\underbrace{\n",
    "    \\begin{pmatrix}\n",
    "1 & 0 & 0\n",
    "    \\end{pmatrix}\n",
    "    }_{H}\n",
    "    \\;\n",
    "\\underbrace{\\begin{pmatrix} z^1_t \\\\ z^2_t \\\\ z^3_t \\end{pmatrix}}_{z_t}   \n",
    " + r_t\n",
    "\\end{align*}\n",
    "$$\n",
    "\n",
    "where $r_t \\sim \\mathcal{N}(0, \\sigma^2)$\n",
    "\n",
    "Refs:\n",
    "- Temporal Gaussian Process Regression in Logarithmic Time https://arxiv.org/pdf/2102.09964.pdf\n",
    "- KALMAN FILTERING AND SMOOTHING SOLUTIONS TO TEMPORAL GAUSSIAN PROCESS REGRESSION MODELS https://users.aalto.fi/~ssarkka/pub/gp-ts-kfrts.pdf\n",
    "- https://github.com/EEA-sensors/parallel-gps/blob/main/pssgp/kernels/matern/common.py\n",
    "- https://github.com/AaltoML/BayesNewton/blob/main/bayesnewton/kernels.py#L238\n",
    "- https://github.com/SheffieldML/GPy/blob/devel/GPy/kern/src/sde_matern.py\n",
    "\n"
   ]
  },
  {
   "cell_type": "markdown",
   "id": "ce5fdeca",
   "metadata": {},
   "source": [
    "## Setup"
   ]
  },
  {
   "cell_type": "code",
   "execution_count": 1,
   "id": "iCSsZdpXLme0",
   "metadata": {
    "colab": {
     "base_uri": "https://localhost:8080/"
    },
    "id": "iCSsZdpXLme0",
    "outputId": "bf28b24b-0476-4b9d-95e6-99b3a40849a2",
    "tags": [
     "hide-cell"
    ]
   },
   "outputs": [],
   "source": [
    "%%capture\n",
    "try:\n",
    "    import dynamax\n",
    "except ModuleNotFoundError:\n",
    "    print('installing dynamax')\n",
    "    %pip install -q dynamax[notebooks]\n",
    "    import dynamax"
   ]
  },
  {
   "cell_type": "code",
   "execution_count": 2,
   "id": "6eb6c0e6",
   "metadata": {},
   "outputs": [],
   "source": [
    "from jax import numpy as jnp\n",
    "from jax import random as jr\n",
    "from jax import vmap\n",
    "from matplotlib import pyplot as plt\n",
    "\n",
    "from dynamax.utils.plotting import plot_uncertainty_ellipses\n",
    "from dynamax.linear_gaussian_ssm import LinearGaussianSSM, ParamsLGSSM\n",
    "from dynamax.linear_gaussian_ssm import lgssm_smoother, lgssm_filter\n"
   ]
  },
  {
   "cell_type": "markdown",
   "id": "118e3213",
   "metadata": {},
   "source": [
    "## Create the model"
   ]
  },
  {
   "cell_type": "code",
   "execution_count": 3,
   "id": "c0fcda3e",
   "metadata": {},
   "outputs": [],
   "source": [
    "# Create object\n",
    "lgssm = LinearGaussianSSM(state_dim = 3, emission_dim = 1)\n",
    "\n",
    "# hyperparameters, to learn\n",
    "# ell, lengthscale of kernel\n",
    "# alpha, variance of kernel\n",
    "# sigma, observation noise\n",
    "\n",
    "# what are the initial mean and covariance?\n",
    "# initial_mean =\n",
    "# initial_covariance =\n",
    "\n",
    "# F, dynamics model\n",
    "lambda_ = np.sqrt(5) / ell\n",
    "F  = jnp.array([[0, 1, 0],\n",
    "                [0, 0, 1],\n",
    "                [-lambda_**3, -3*lambda_**2, -3*lambda_]])\n",
    "\n",
    "# q, dynamics covariance\n",
    "Q #= needs to be state_dim x state_dim, seems to be L w(t)\n",
    "\n",
    "# How to write this as covariance Q?\n",
    "# L = jnp.array([[0], [0], [1]])\n",
    "# w = np.array([[alpha * 400.0 * 5.0 ** 0.5 / 3.0 / ell ** 5.0]])\n",
    "# L @ w\n",
    "\n",
    "# H, emission model weights\n",
    "H = jnp.array([[1., 0., 0.]])\n",
    "\n",
    "# R, emission_covariance\n",
    "R = jnp.ones((1, 1)) * sigma\n",
    "\n",
    "# Initialize model\n",
    "params, _ = lgssm.initialize(jr.PRNGKey(0),\n",
    "                             initial_mean=initial_mean,\n",
    "                             initial_covariance=initial_covariance,\n",
    "                             dynamics_weights=F,\n",
    "                             dynamics_covariance=Q,\n",
    "                             emission_weights=H,\n",
    "                             emission_covariance=R)\n"
   ]
  },
  {
   "cell_type": "markdown",
   "id": "81a28d0d",
   "metadata": {},
   "source": [
    "## Create some test data"
   ]
  },
  {
   "cell_type": "code",
   "execution_count": 30,
   "id": "8f108dd3",
   "metadata": {},
   "outputs": [
    {
     "data": {
      "text/plain": [
       "<matplotlib.legend.Legend at 0x28d0fcfd0>"
      ]
     },
     "execution_count": 30,
     "metadata": {},
     "output_type": "execute_result"
    },
    {
     "data": {
      "image/png": "[encoded data removed]",
      "text/plain": [
       "<Figure size 640x480 with 1 Axes>"
      ]
     },
     "metadata": {},
     "output_type": "display_data"
    }
   ],
   "source": [
    "key = jr.PRNGKey(123)\n",
    "\n",
    "n = 100\n",
    "noise = 0.3\n",
    "\n",
    "key, subkey = jr.split(key)\n",
    "x = jr.uniform(key=key, minval=-3.0, maxval=3.0, shape=(n,)).reshape(-1, 1)\n",
    "f = lambda x: jnp.sin(4 * x) + jnp.cos(2 * x)\n",
    "signal = f(x)\n",
    "y = signal + jr.normal(subkey, shape=signal.shape) * noise\n",
    "\n",
    "xtest = jnp.linspace(-3.5, 3.5, 500).reshape(-1, 1)\n",
    "ytest = f(xtest)\n",
    "\n",
    "fig, ax = plt.subplots()\n",
    "ax.plot(x, y, \"o\", label=\"Observations\", color=\"blue\")\n",
    "ax.plot(xtest, ytest, label=\"Latent function\", color=\"red\")\n",
    "ax.legend(loc=\"best\")\n",
    "\n"
   ]
  },
  {
   "cell_type": "markdown",
   "id": "53862c48",
   "metadata": {},
   "source": [
    "## Perform online filtering\n",
    "\n"
   ]
  },
  {
   "cell_type": "code",
   "execution_count": 31,
   "id": "fab5d4e3",
   "metadata": {},
   "outputs": [],
   "source": [
    "# lgssm_posterior = lgssm.filter(params, ytest)\n",
    "# print(lgssm_posterior.filtered_means.shape)\n",
    "# print(lgssm_posterior.filtered_covariances.shape)\n",
    "# print(lgssm_posterior.marginal_loglik)\n",
    "\n",
    "# in the current interface, we can only infer entire covariance/emission matrices\n",
    "# we want to infer alpha, ell, sigma from the data\n",
    "# What is the correct interface of dynamax for this?\n",
    "\n",
    "# This is an example of training NN weights\n",
    "# https://probml.github.io/dynamax/notebooks/generalized_gaussian_ssm/cmgf_mlp_classification_demo.html\n",
    "\n",
    "# cmgf_ekf_params = ParamsLGSSM(\n",
    "#     initial_mean=flat_params,\n",
    "#     initial_covariance=jnp.eye(state_dim),\n",
    "#     dynamics_function=lambda w, x: w,\n",
    "#     dynamics_covariance=jnp.eye(state_dim) * 1e-4,\n",
    "#     emission_mean_function = lambda w, x: sigmoid_fn(w, x),\n",
    "#     emission_cov_function = lambda w, x: sigmoid_fn(w, x) * (1 - sigmoid_fn(w, x))\n",
    "# )\n",
    "# the filter this object"
   ]
  }
 ],
 "metadata": {
  "colab": {
   "name": "kf_tracking.ipynb",
   "provenance": []
  },
  "kernelspec": {
   "display_name": "Python 3.8.10 64-bit",
   "language": "python",
   "name": "python3"
  },
  "language_info": {
   "codemirror_mode": {
    "name": "ipython",
    "version": 3
   },
   "file_extension": ".py",
   "mimetype": "text/x-python",
   "name": "python",
   "nbconvert_exporter": "python",
   "pygments_lexer": "ipython3",
   "version": "3.10.13"
  },
  "vscode": {
   "interpreter": {
    "hash": "31f2aee4e71d21fbe5cf8b01ff0e069b9275f58929596ceb00d14d90e3e16cd6"
   }
  }
 },
 "nbformat": 4,
 "nbformat_minor": 5
}
